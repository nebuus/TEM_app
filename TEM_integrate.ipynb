{
 "cells": [
  {
   "cell_type": "markdown",
   "id": "6a456241",
   "metadata": {},
   "source": [
    "# Imports"
   ]
  },
  {
   "cell_type": "code",
   "execution_count": 1,
   "id": "10d795d9",
   "metadata": {},
   "outputs": [],
   "source": [
    "#!pip install voila\n",
    "#!pip install numpy\n",
    "#!pip install matplotlib\n",
    "#!pip install ipywidgets\n",
    "#!pip install scipy\n",
    "#!pip install jupyter_contrib_nbextensions\n",
    "#!pip install markdown2\n",
    "#!pip install pandas\n",
    "#!jupyter contrib nbextension install --sys-prefix\n",
    "#!jupyter nbextension enable --py widgetsnbextension --sys-prefix --user\n",
    "#!jupyter serverextension enable voila --sys-prefix"
   ]
  },
  {
   "cell_type": "code",
   "execution_count": 2,
   "id": "36cb92d5",
   "metadata": {},
   "outputs": [],
   "source": [
    "import warnings\n",
    "warnings.filterwarnings('ignore')\n",
    "import ipywidgets as widgets\n",
    "from IPython.display import display, clear_output, Markdown\n",
    "import numpy as np\n",
    "from scipy.integrate import simpson\n",
    "from numpy import trapz\n",
    "import matplotlib.pyplot as plt\n",
    "import markdown2\n",
    "import pandas as pd\n",
    "from IPython.display import display\n",
    "import io\n",
    "import io\n",
    "import pandas as pd\n",
    "import ipywidgets"
   ]
  },
  {
   "cell_type": "markdown",
   "id": "1ef6ab85",
   "metadata": {},
   "source": [
    "## Buttons"
   ]
  },
  {
   "cell_type": "code",
   "execution_count": 3,
   "id": "14a4888b",
   "metadata": {
    "scrolled": true
   },
   "outputs": [],
   "source": [
    "upload = widgets.FileUpload(multiple=False)\n",
    "#upload"
   ]
  },
  {
   "cell_type": "code",
   "execution_count": 4,
   "id": "17895798-b3db-47e1-9932-dd43b39f7445",
   "metadata": {},
   "outputs": [],
   "source": [
    "# with open(\"input.txt\", \"w+b\") as i:\n",
    "#     i.write(upload.data[0])"
   ]
  },
  {
   "cell_type": "code",
   "execution_count": 5,
   "id": "eb06cb94",
   "metadata": {
    "scrolled": true
   },
   "outputs": [],
   "source": [
    "date = widgets.DatePicker(description='Pick a Date')\n",
    "#date"
   ]
  },
  {
   "cell_type": "code",
   "execution_count": 6,
   "id": "2f732f13",
   "metadata": {},
   "outputs": [],
   "source": [
    "equip = widgets.ToggleButtons(\n",
    "            options=['TEM1', 'TEM2']\n",
    "        )\n",
    "#equip"
   ]
  },
  {
   "cell_type": "code",
   "execution_count": 7,
   "id": "6b6ad133",
   "metadata": {},
   "outputs": [],
   "source": [
    "sample = widgets.Text(placeholder='Sample number')\n",
    "#sample"
   ]
  },
  {
   "cell_type": "code",
   "execution_count": 8,
   "id": "5a1864d3",
   "metadata": {},
   "outputs": [],
   "source": [
    "gas = widgets.Dropdown(\n",
    "    options=['He', 'Air', 'Argon'],\n",
    "    value='Air',\n",
    "    description='Carrier gas:',\n",
    ")\n",
    "\n",
    "def on_change(change):\n",
    "    if change['type'] == 'change' and change['name'] == 'value':\n",
    "        print(\"changed to %s\" % change['new'])\n",
    "\n",
    "gas.observe(on_change)\n",
    "\n",
    "#display(gas)"
   ]
  },
  {
   "cell_type": "code",
   "execution_count": 9,
   "id": "93eb1d75",
   "metadata": {},
   "outputs": [],
   "source": [
    "flow_rate = widgets.ToggleButtons(\n",
    "            options=['30:10', '15:5']\n",
    "        )\n",
    "#flow_rate"
   ]
  },
  {
   "cell_type": "code",
   "execution_count": 10,
   "id": "185f5972",
   "metadata": {},
   "outputs": [],
   "source": [
    "values_list = list(range(1, 121))\n",
    "rec_time = widgets.Dropdown(\n",
    "    options=values_list,\n",
    "    value=10,\n",
    "    description='Recording time, s:',\n",
    ")\n",
    "#rec_time"
   ]
  },
  {
   "cell_type": "code",
   "execution_count": 11,
   "id": "eb588fd4",
   "metadata": {},
   "outputs": [],
   "source": [
    "button_send = widgets.Button(\n",
    "                description='Generate report',\n",
    "                tooltip='Generate',\n",
    "                style={'description_width': 'initial'}\n",
    "            )\n",
    "\n",
    "output = widgets.Output()\n",
    "  \n",
    "def on_button_clicked(event):\n",
    "    with output:\n",
    "        clear_output()\n",
    "#        print(\"hahaha\")\n",
    "        calculcations()\n",
    "        generate_plot()\n",
    "        markdown_content = generate_markdown()\n",
    "        md = markdown2.markdown(markdown_content)\n",
    "        display(Markdown(md))\n",
    "        \n",
    "button_send.on_click(on_button_clicked)\n",
    "\n",
    "vbox_result = widgets.VBox([button_send, output])"
   ]
  },
  {
   "cell_type": "code",
   "execution_count": 12,
   "id": "96f6668e",
   "metadata": {},
   "outputs": [],
   "source": [
    "text_0 = widgets.HTML(value=\"<h1>TEM integration!</h1>\")\n",
    "text_00 = widgets.HTML(value=\"<h2>Upload TEM output file</h2>\")\n",
    "text_1 = widgets.HTML(value=\"<h2>Please pick an equipment and carrier gas, flow rate and recording time used</h2>\")\n",
    "text_2= widgets.HTML(value=\"<h2>The experiment was performed on</h2>\")\n",
    "text_3= widgets.HTML(value=\"<h2>for sample</h2>\")\n",
    "\n",
    "\n",
    "vbox_text = widgets.VBox([text_0, text_00, upload, text_1, equip, gas, flow_rate, rec_time, text_2, date, text_3, sample, vbox_result])"
   ]
  },
  {
   "cell_type": "code",
   "execution_count": 13,
   "id": "31ec16bc-22f1-4018-816f-c675b406e2ec",
   "metadata": {},
   "outputs": [],
   "source": [
    "def generate_markdown():\n",
    "    content = f\"\"\"\n",
    "    # Report\n",
    "\n",
    "    **Sample Date:** {date.value}  \n",
    "    **Equipment:** {equip.value}  \n",
    "    **Gas:** {gas.value}  \n",
    "    **Sample:** {sample.value}  \n",
    "\n",
    "    ## Additional Information\n",
    "    - This is a sample report generated with ipywidgets.\n",
    "    - The plot above shows tritium signal in time.\n",
    "    \"\"\"\n",
    "    return content"
   ]
  },
  {
   "cell_type": "code",
   "execution_count": 14,
   "id": "fdae7d43",
   "metadata": {},
   "outputs": [],
   "source": [
    "markdown_content = generate_markdown()\n",
    "md = markdown2.markdown(markdown_content)\n",
    "#display(Markdown(md))"
   ]
  },
  {
   "cell_type": "markdown",
   "id": "0649763c",
   "metadata": {},
   "source": [
    "## Calculations"
   ]
  },
  {
   "cell_type": "code",
   "execution_count": 15,
   "id": "b30eed24-72df-4fd9-bf48-f09ffe972872",
   "metadata": {},
   "outputs": [],
   "source": [
    "def activity(x):\n",
    "    recalc = 3600000\n",
    "    if equip.value == \"TEM1\":\n",
    "       if gas.value == \"He\":\n",
    "           cal_const = 85000\n",
    "       if gas.value == \"Air\":\n",
    "           cal_const = 85000\n",
    "       if gas.value == \"Argon\":\n",
    "           cal_const = 85000\n",
    "    flow = int(flow_rate.value[3:])\n",
    "    values = x*flow*cal_const/recalc\n",
    "    return values"
   ]
  },
  {
   "cell_type": "code",
   "execution_count": 16,
   "id": "84819a6f",
   "metadata": {},
   "outputs": [],
   "source": [
    "def calculcations():\n",
    "    uploaded_file = upload.value[0]\n",
    "    pd.read_csv(io.BytesIO(uploaded_file.content))\n",
    "    df = pd.read_csv(io.BytesIO(uploaded_file.content), sep=\" \")\n",
    "    unique_records = df['Record'].unique()\n",
    "    record_indices = {}\n",
    "    for record in unique_records:\n",
    "        indices = df.index[df['Record'] == record].tolist()\n",
    "        record_indices[record] = indices\n",
    "    start = record_indices[record][0]\n",
    "    backgr = df[\"Akoinz_cps\"].iloc[:start].mean()\n",
    "    df['Antikoinz_wo_backgr'] = np.where(df['Akoinz_cps'] >= backgr, df['Akoinz_cps'] - backgr, 0)\n",
    "    df[\"values\"] = activity(df[\"Antikoinz_wo_backgr\"])\n",
    "    area = trapz(df[\"values\"], dx=rec_time.value)\n",
    "    print(\"area, Bq =\", area)\n",
    "    tritium_lambda = 1.78*(10**-9)\n",
    "    area_atoms = area/tritium_lambda\n",
    "    print(\"{:e}\".format(area_atoms))"
   ]
  },
  {
   "cell_type": "code",
   "execution_count": 23,
   "id": "8b9c244d-c526-4d4e-8347-5f7f2d416f11",
   "metadata": {},
   "outputs": [],
   "source": [
    "def generate_plot():\n",
    "    uploaded_file = upload.value[0]\n",
    "    pd.read_csv(io.BytesIO(uploaded_file.content))\n",
    "    df = pd.read_csv(io.BytesIO(uploaded_file.content), sep=\" \")\n",
    "    plt.scatter(x=df.Total_sec, y=df.Akoinz_cps)\n",
    "    plt.xlabel('time, s')\n",
    "    plt.ylabel('cps')\n",
    "    plt.savefig('plot.png')\n",
    "    plt.show()"
   ]
  },
  {
   "cell_type": "code",
   "execution_count": 18,
   "id": "d0061e49",
   "metadata": {
    "scrolled": true
   },
   "outputs": [],
   "source": [
    "#print(df.Record.unique())"
   ]
  },
  {
   "cell_type": "markdown",
   "id": "90fec97f",
   "metadata": {},
   "source": [
    "## Page"
   ]
  },
  {
   "cell_type": "code",
   "execution_count": 24,
   "id": "81610460",
   "metadata": {
    "scrolled": true
   },
   "outputs": [
    {
     "data": {
      "application/vnd.jupyter.widget-view+json": {
       "model_id": "5e6397af3e8549de941a713e613b740b",
       "version_major": 2,
       "version_minor": 0
      },
      "text/plain": [
       "HBox(children=(VBox(children=(HTML(value='<h1>TEM integration!</h1>'), HTML(value='<h2>Upload TEM output file<…"
      ]
     },
     "metadata": {},
     "output_type": "display_data"
    }
   ],
   "source": [
    "page = widgets.HBox([vbox_text])\n",
    "display(page)"
   ]
  },
  {
   "cell_type": "code",
   "execution_count": 25,
   "id": "4189ecaa-9187-4eb1-b181-ee01ed9cfd33",
   "metadata": {},
   "outputs": [],
   "source": [
    "!pip freeze >requirements.txt"
   ]
  }
 ],
 "metadata": {
  "kernelspec": {
   "display_name": "Python 3 (ipykernel)",
   "language": "python",
   "name": "python3"
  },
  "language_info": {
   "codemirror_mode": {
    "name": "ipython",
    "version": 3
   },
   "file_extension": ".py",
   "mimetype": "text/x-python",
   "name": "python",
   "nbconvert_exporter": "python",
   "pygments_lexer": "ipython3",
   "version": "3.11.9"
  }
 },
 "nbformat": 4,
 "nbformat_minor": 5
}
